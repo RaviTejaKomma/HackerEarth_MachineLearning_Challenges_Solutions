{
 "cells": [
  {
   "cell_type": "code",
   "execution_count": 1,
   "metadata": {},
   "outputs": [],
   "source": [
    "#import statements\n",
    "import numpy as np\n",
    "import pandas as pd\n",
    "import matplotlib.pyplot as plt\n",
    "import seaborn as sns\n",
    "import missingno as ms\n",
    "%matplotlib inline"
   ]
  },
  {
   "cell_type": "code",
   "execution_count": 2,
   "metadata": {},
   "outputs": [],
   "source": [
    "train_data = pd.read_csv('./Dataset/train.csv')"
   ]
  },
  {
   "cell_type": "code",
   "execution_count": 3,
   "metadata": {},
   "outputs": [
    {
     "data": {
      "text/html": [
       "<div>\n",
       "<style scoped>\n",
       "    .dataframe tbody tr th:only-of-type {\n",
       "        vertical-align: middle;\n",
       "    }\n",
       "\n",
       "    .dataframe tbody tr th {\n",
       "        vertical-align: top;\n",
       "    }\n",
       "\n",
       "    .dataframe thead th {\n",
       "        text-align: right;\n",
       "    }\n",
       "</style>\n",
       "<table border=\"1\" class=\"dataframe\">\n",
       "  <thead>\n",
       "    <tr style=\"text-align: right;\">\n",
       "      <th></th>\n",
       "      <th>Observation</th>\n",
       "      <th>T1</th>\n",
       "      <th>RH_1</th>\n",
       "      <th>T2</th>\n",
       "      <th>RH_2</th>\n",
       "      <th>T3</th>\n",
       "      <th>RH_3</th>\n",
       "      <th>T4</th>\n",
       "      <th>RH_4</th>\n",
       "      <th>T5</th>\n",
       "      <th>...</th>\n",
       "      <th>RH_8</th>\n",
       "      <th>T9</th>\n",
       "      <th>RH_9</th>\n",
       "      <th>T_out</th>\n",
       "      <th>Press_mm_hg</th>\n",
       "      <th>RH_out</th>\n",
       "      <th>Windspeed</th>\n",
       "      <th>Visibility</th>\n",
       "      <th>Tdewpoint</th>\n",
       "      <th>Energy</th>\n",
       "    </tr>\n",
       "  </thead>\n",
       "  <tbody>\n",
       "    <tr>\n",
       "      <th>0</th>\n",
       "      <td>1111</td>\n",
       "      <td>22.700000</td>\n",
       "      <td>37.200</td>\n",
       "      <td>21.000000</td>\n",
       "      <td>38.000000</td>\n",
       "      <td>23.390000</td>\n",
       "      <td>37.290000</td>\n",
       "      <td>22.832857</td>\n",
       "      <td>34.942857</td>\n",
       "      <td>20.500000</td>\n",
       "      <td>...</td>\n",
       "      <td>45.360000</td>\n",
       "      <td>20.20</td>\n",
       "      <td>38.663333</td>\n",
       "      <td>12.80</td>\n",
       "      <td>760.050000</td>\n",
       "      <td>62.000000</td>\n",
       "      <td>3.5</td>\n",
       "      <td>28.0</td>\n",
       "      <td>5.65</td>\n",
       "      <td>70</td>\n",
       "    </tr>\n",
       "    <tr>\n",
       "      <th>1</th>\n",
       "      <td>1112</td>\n",
       "      <td>21.500000</td>\n",
       "      <td>41.045</td>\n",
       "      <td>20.500000</td>\n",
       "      <td>39.133333</td>\n",
       "      <td>22.926667</td>\n",
       "      <td>39.526667</td>\n",
       "      <td>21.700000</td>\n",
       "      <td>34.126667</td>\n",
       "      <td>18.633333</td>\n",
       "      <td>...</td>\n",
       "      <td>34.663333</td>\n",
       "      <td>19.73</td>\n",
       "      <td>37.933333</td>\n",
       "      <td>8.47</td>\n",
       "      <td>764.166667</td>\n",
       "      <td>48.166667</td>\n",
       "      <td>8.0</td>\n",
       "      <td>26.5</td>\n",
       "      <td>-1.92</td>\n",
       "      <td>210</td>\n",
       "    </tr>\n",
       "    <tr>\n",
       "      <th>2</th>\n",
       "      <td>1113</td>\n",
       "      <td>21.666667</td>\n",
       "      <td>38.000</td>\n",
       "      <td>22.600000</td>\n",
       "      <td>35.700000</td>\n",
       "      <td>21.890000</td>\n",
       "      <td>36.590000</td>\n",
       "      <td>22.000000</td>\n",
       "      <td>35.530000</td>\n",
       "      <td>19.000000</td>\n",
       "      <td>...</td>\n",
       "      <td>38.545000</td>\n",
       "      <td>19.79</td>\n",
       "      <td>39.430000</td>\n",
       "      <td>10.60</td>\n",
       "      <td>757.600000</td>\n",
       "      <td>57.000000</td>\n",
       "      <td>2.0</td>\n",
       "      <td>27.0</td>\n",
       "      <td>2.40</td>\n",
       "      <td>50</td>\n",
       "    </tr>\n",
       "    <tr>\n",
       "      <th>3</th>\n",
       "      <td>1114</td>\n",
       "      <td>23.290000</td>\n",
       "      <td>38.530</td>\n",
       "      <td>21.671429</td>\n",
       "      <td>38.000000</td>\n",
       "      <td>24.290000</td>\n",
       "      <td>36.200000</td>\n",
       "      <td>23.100000</td>\n",
       "      <td>35.090000</td>\n",
       "      <td>22.042857</td>\n",
       "      <td>...</td>\n",
       "      <td>38.600000</td>\n",
       "      <td>22.60</td>\n",
       "      <td>36.194286</td>\n",
       "      <td>11.60</td>\n",
       "      <td>760.600000</td>\n",
       "      <td>63.000000</td>\n",
       "      <td>1.0</td>\n",
       "      <td>40.0</td>\n",
       "      <td>4.67</td>\n",
       "      <td>50</td>\n",
       "    </tr>\n",
       "    <tr>\n",
       "      <th>4</th>\n",
       "      <td>1115</td>\n",
       "      <td>24.000000</td>\n",
       "      <td>42.560</td>\n",
       "      <td>26.830000</td>\n",
       "      <td>34.356000</td>\n",
       "      <td>26.530000</td>\n",
       "      <td>40.333333</td>\n",
       "      <td>24.500000</td>\n",
       "      <td>40.900000</td>\n",
       "      <td>21.500000</td>\n",
       "      <td>...</td>\n",
       "      <td>44.230000</td>\n",
       "      <td>22.60</td>\n",
       "      <td>44.090000</td>\n",
       "      <td>17.70</td>\n",
       "      <td>756.983333</td>\n",
       "      <td>63.000000</td>\n",
       "      <td>1.0</td>\n",
       "      <td>21.5</td>\n",
       "      <td>10.40</td>\n",
       "      <td>250</td>\n",
       "    </tr>\n",
       "  </tbody>\n",
       "</table>\n",
       "<p>5 rows × 26 columns</p>\n",
       "</div>"
      ],
      "text/plain": [
       "   Observation         T1    RH_1         T2       RH_2         T3       RH_3  \\\n",
       "0         1111  22.700000  37.200  21.000000  38.000000  23.390000  37.290000   \n",
       "1         1112  21.500000  41.045  20.500000  39.133333  22.926667  39.526667   \n",
       "2         1113  21.666667  38.000  22.600000  35.700000  21.890000  36.590000   \n",
       "3         1114  23.290000  38.530  21.671429  38.000000  24.290000  36.200000   \n",
       "4         1115  24.000000  42.560  26.830000  34.356000  26.530000  40.333333   \n",
       "\n",
       "          T4       RH_4         T5   ...         RH_8     T9       RH_9  \\\n",
       "0  22.832857  34.942857  20.500000   ...    45.360000  20.20  38.663333   \n",
       "1  21.700000  34.126667  18.633333   ...    34.663333  19.73  37.933333   \n",
       "2  22.000000  35.530000  19.000000   ...    38.545000  19.79  39.430000   \n",
       "3  23.100000  35.090000  22.042857   ...    38.600000  22.60  36.194286   \n",
       "4  24.500000  40.900000  21.500000   ...    44.230000  22.60  44.090000   \n",
       "\n",
       "   T_out  Press_mm_hg     RH_out  Windspeed  Visibility  Tdewpoint  Energy  \n",
       "0  12.80   760.050000  62.000000        3.5        28.0       5.65      70  \n",
       "1   8.47   764.166667  48.166667        8.0        26.5      -1.92     210  \n",
       "2  10.60   757.600000  57.000000        2.0        27.0       2.40      50  \n",
       "3  11.60   760.600000  63.000000        1.0        40.0       4.67      50  \n",
       "4  17.70   756.983333  63.000000        1.0        21.5      10.40     250  \n",
       "\n",
       "[5 rows x 26 columns]"
      ]
     },
     "execution_count": 3,
     "metadata": {},
     "output_type": "execute_result"
    }
   ],
   "source": [
    "train_data.head()"
   ]
  },
  {
   "cell_type": "code",
   "execution_count": 4,
   "metadata": {},
   "outputs": [
    {
     "name": "stdout",
     "output_type": "stream",
     "text": [
      "<class 'pandas.core.frame.DataFrame'>\n",
      "RangeIndex: 15780 entries, 0 to 15779\n",
      "Data columns (total 26 columns):\n",
      "Observation    15780 non-null int64\n",
      "T1             15780 non-null float64\n",
      "RH_1           15780 non-null float64\n",
      "T2             15780 non-null float64\n",
      "RH_2           15780 non-null float64\n",
      "T3             15780 non-null float64\n",
      "RH_3           15780 non-null float64\n",
      "T4             15780 non-null float64\n",
      "RH_4           15780 non-null float64\n",
      "T5             15780 non-null float64\n",
      "RH_5           15780 non-null float64\n",
      "T6             15780 non-null float64\n",
      "RH_6           15780 non-null float64\n",
      "T7             15780 non-null float64\n",
      "RH_7           15780 non-null float64\n",
      "T8             15780 non-null float64\n",
      "RH_8           15780 non-null float64\n",
      "T9             15780 non-null float64\n",
      "RH_9           15780 non-null float64\n",
      "T_out          15780 non-null float64\n",
      "Press_mm_hg    15780 non-null float64\n",
      "RH_out         15780 non-null float64\n",
      "Windspeed      15780 non-null float64\n",
      "Visibility     15780 non-null float64\n",
      "Tdewpoint      15780 non-null float64\n",
      "Energy         15780 non-null int64\n",
      "dtypes: float64(24), int64(2)\n",
      "memory usage: 3.1 MB\n"
     ]
    }
   ],
   "source": [
    "train_data.info()"
   ]
  },
  {
   "cell_type": "code",
   "execution_count": 5,
   "metadata": {},
   "outputs": [],
   "source": [
    "def drop_features(features, data):\n",
    "    data.drop(features,axis=1,inplace=True)"
   ]
  },
  {
   "cell_type": "code",
   "execution_count": 6,
   "metadata": {},
   "outputs": [],
   "source": [
    "drop_features(['Observation'],train_data)"
   ]
  },
  {
   "cell_type": "code",
   "execution_count": 16,
   "metadata": {},
   "outputs": [
    {
     "data": {
      "text/plain": [
       "RandomForestRegressor(bootstrap=True, criterion='mse', max_depth=None,\n",
       "           max_features='log2', max_leaf_nodes=None,\n",
       "           min_impurity_decrease=0.0, min_impurity_split=None,\n",
       "           min_samples_leaf=1, min_samples_split=2,\n",
       "           min_weight_fraction_leaf=0.0, n_estimators=275, n_jobs=1,\n",
       "           oob_score=False, random_state=None, verbose=0, warm_start=False)"
      ]
     },
     "execution_count": 16,
     "metadata": {},
     "output_type": "execute_result"
    }
   ],
   "source": [
    "from sklearn.ensemble import RandomForestRegressor\n",
    "model = RandomForestRegressor(n_estimators=275,max_features='log2')\n",
    "model.fit(train_data.drop('Energy',axis=1),train_data['Energy'])"
   ]
  },
  {
   "cell_type": "code",
   "execution_count": 8,
   "metadata": {},
   "outputs": [],
   "source": [
    "test_data = pd.read_csv('./Dataset/test.csv')"
   ]
  },
  {
   "cell_type": "code",
   "execution_count": 9,
   "metadata": {},
   "outputs": [
    {
     "name": "stdout",
     "output_type": "stream",
     "text": [
      "<class 'pandas.core.frame.DataFrame'>\n",
      "RangeIndex: 3945 entries, 0 to 3944\n",
      "Data columns (total 25 columns):\n",
      "Observation    3945 non-null int64\n",
      "T1             3945 non-null float64\n",
      "RH_1           3945 non-null float64\n",
      "T2             3945 non-null float64\n",
      "RH_2           3945 non-null float64\n",
      "T3             3945 non-null float64\n",
      "RH_3           3945 non-null float64\n",
      "T4             3945 non-null float64\n",
      "RH_4           3945 non-null float64\n",
      "T5             3945 non-null float64\n",
      "RH_5           3945 non-null float64\n",
      "T6             3945 non-null float64\n",
      "RH_6           3945 non-null float64\n",
      "T7             3945 non-null float64\n",
      "RH_7           3945 non-null float64\n",
      "T8             3945 non-null float64\n",
      "RH_8           3945 non-null float64\n",
      "T9             3945 non-null float64\n",
      "RH_9           3945 non-null float64\n",
      "T_out          3945 non-null float64\n",
      "Press_mm_hg    3945 non-null float64\n",
      "RH_out         3945 non-null float64\n",
      "Windspeed      3945 non-null float64\n",
      "Visibility     3945 non-null float64\n",
      "Tdewpoint      3945 non-null float64\n",
      "dtypes: float64(24), int64(1)\n",
      "memory usage: 770.6 KB\n"
     ]
    }
   ],
   "source": [
    "test_data.info()"
   ]
  },
  {
   "cell_type": "code",
   "execution_count": 17,
   "metadata": {},
   "outputs": [],
   "source": [
    "predictions = model.predict(test_data.drop('Observation',axis=1))"
   ]
  },
  {
   "cell_type": "code",
   "execution_count": 18,
   "metadata": {},
   "outputs": [],
   "source": [
    "final_result = pd.DataFrame({'Observation' : test_data['Observation'],'Energy': predictions})\n",
    "filename = 'output.csv'\n",
    "final_result.to_csv(filename,index=False,columns=['Observation','Energy'])"
   ]
  },
  {
   "cell_type": "code",
   "execution_count": 12,
   "metadata": {},
   "outputs": [
    {
     "name": "stdout",
     "output_type": "stream",
     "text": [
      "Fitting 3 folds for each of 9 candidates, totalling 27 fits\n"
     ]
    },
    {
     "name": "stderr",
     "output_type": "stream",
     "text": [
      "[Parallel(n_jobs=-1)]: Done  27 out of  27 | elapsed:  8.6min finished\n"
     ]
    },
    {
     "data": {
      "text/plain": [
       "GridSearchCV(cv=None, error_score='raise',\n",
       "       estimator=RandomForestRegressor(bootstrap=True, criterion='mse', max_depth=None,\n",
       "           max_features='auto', max_leaf_nodes=None,\n",
       "           min_impurity_decrease=0.0, min_impurity_split=None,\n",
       "           min_samples_leaf=1, min_samples_split=2,\n",
       "           min_weight_fraction_leaf=0.0, n_estimators=10, n_jobs=1,\n",
       "           oob_score=False, random_state=None, verbose=0, warm_start=False),\n",
       "       fit_params=None, iid=True, n_jobs=-1,\n",
       "       param_grid={'n_estimators': [200, 250, 300], 'max_features': ['sqrt', 'auto', 'log2']},\n",
       "       pre_dispatch='2*n_jobs', refit=True, return_train_score='warn',\n",
       "       scoring=None, verbose=True)"
      ]
     },
     "execution_count": 12,
     "metadata": {},
     "output_type": "execute_result"
    }
   ],
   "source": [
    "from sklearn.model_selection import GridSearchCV\n",
    "param = {\n",
    "                     'n_estimators': [200,250,300],\n",
    "                     'max_features': ['sqrt', 'auto', 'log2']           \n",
    "        }\n",
    "model = GridSearchCV(RandomForestRegressor(),param,verbose=True,n_jobs=-1)\n",
    "model.fit(train_data.drop('Energy',axis=1),train_data['Energy'])"
   ]
  },
  {
   "cell_type": "code",
   "execution_count": 13,
   "metadata": {},
   "outputs": [],
   "source": [
    "predicitons = model.predict(test_data.drop('Observation',axis=1))"
   ]
  },
  {
   "cell_type": "code",
   "execution_count": 15,
   "metadata": {},
   "outputs": [
    {
     "data": {
      "text/plain": [
       "{'max_features': 'log2', 'n_estimators': 200}"
      ]
     },
     "execution_count": 15,
     "metadata": {},
     "output_type": "execute_result"
    }
   ],
   "source": [
    "model.best_params_"
   ]
  },
  {
   "cell_type": "code",
   "execution_count": 14,
   "metadata": {},
   "outputs": [],
   "source": [
    "final_result = pd.DataFrame({'Observation' : test_data['Observation'],'Energy': predictions})\n",
    "filename = 'output.csv'\n",
    "final_result.to_csv(filename,index=False,columns=['Observation','Energy'])"
   ]
  }
 ],
 "metadata": {
  "kernelspec": {
   "display_name": "Python 3",
   "language": "python",
   "name": "python3"
  },
  "language_info": {
   "codemirror_mode": {
    "name": "ipython",
    "version": 3
   },
   "file_extension": ".py",
   "mimetype": "text/x-python",
   "name": "python",
   "nbconvert_exporter": "python",
   "pygments_lexer": "ipython3",
   "version": "3.6.5"
  }
 },
 "nbformat": 4,
 "nbformat_minor": 2
}
