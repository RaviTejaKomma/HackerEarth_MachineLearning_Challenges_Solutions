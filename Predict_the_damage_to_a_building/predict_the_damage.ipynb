{
 "cells": [
  {
   "cell_type": "code",
   "execution_count": 1,
   "metadata": {},
   "outputs": [],
   "source": [
    "import numpy as np\n",
    "import pandas as pd\n",
    "import seaborn as sns \n",
    "%matplotlib inline"
   ]
  },
  {
   "cell_type": "code",
   "execution_count": 2,
   "metadata": {
    "collapsed": true
   },
   "outputs": [],
   "source": [
    "train_data = pd.read_csv(\"./Dataset/train.csv\")"
   ]
  },
  {
   "cell_type": "code",
   "execution_count": 3,
   "metadata": {},
   "outputs": [
    {
     "name": "stdout",
     "output_type": "stream",
     "text": [
      "<class 'pandas.core.frame.DataFrame'>\n",
      "RangeIndex: 631761 entries, 0 to 631760\n",
      "Data columns (total 14 columns):\n",
      "area_assesed                             631761 non-null object\n",
      "building_id                              631761 non-null object\n",
      "damage_grade                             631761 non-null object\n",
      "district_id                              631761 non-null int64\n",
      "has_geotechnical_risk                    631761 non-null float64\n",
      "has_geotechnical_risk_fault_crack        631761 non-null int64\n",
      "has_geotechnical_risk_flood              631761 non-null int64\n",
      "has_geotechnical_risk_land_settlement    631761 non-null int64\n",
      "has_geotechnical_risk_landslide          631761 non-null int64\n",
      "has_geotechnical_risk_liquefaction       631761 non-null int64\n",
      "has_geotechnical_risk_other              631761 non-null int64\n",
      "has_geotechnical_risk_rock_fall          631761 non-null int64\n",
      "has_repair_started                       598344 non-null float64\n",
      "vdcmun_id                                631761 non-null int64\n",
      "dtypes: float64(2), int64(9), object(3)\n",
      "memory usage: 67.5+ MB\n"
     ]
    }
   ],
   "source": [
    "train_data.info()"
   ]
  },
  {
   "cell_type": "code",
   "execution_count": 4,
   "metadata": {
    "scrolled": true
   },
   "outputs": [
    {
     "data": {
      "text/html": [
       "<div>\n",
       "<style>\n",
       "    .dataframe thead tr:only-child th {\n",
       "        text-align: right;\n",
       "    }\n",
       "\n",
       "    .dataframe thead th {\n",
       "        text-align: left;\n",
       "    }\n",
       "\n",
       "    .dataframe tbody tr th {\n",
       "        vertical-align: top;\n",
       "    }\n",
       "</style>\n",
       "<table border=\"1\" class=\"dataframe\">\n",
       "  <thead>\n",
       "    <tr style=\"text-align: right;\">\n",
       "      <th></th>\n",
       "      <th>area_assesed</th>\n",
       "      <th>building_id</th>\n",
       "      <th>damage_grade</th>\n",
       "      <th>district_id</th>\n",
       "      <th>has_geotechnical_risk</th>\n",
       "      <th>has_geotechnical_risk_fault_crack</th>\n",
       "      <th>has_geotechnical_risk_flood</th>\n",
       "      <th>has_geotechnical_risk_land_settlement</th>\n",
       "      <th>has_geotechnical_risk_landslide</th>\n",
       "      <th>has_geotechnical_risk_liquefaction</th>\n",
       "      <th>has_geotechnical_risk_other</th>\n",
       "      <th>has_geotechnical_risk_rock_fall</th>\n",
       "      <th>has_repair_started</th>\n",
       "      <th>vdcmun_id</th>\n",
       "    </tr>\n",
       "  </thead>\n",
       "  <tbody>\n",
       "    <tr>\n",
       "      <th>0</th>\n",
       "      <td>Both</td>\n",
       "      <td>24385bfd2a2</td>\n",
       "      <td>Grade 4</td>\n",
       "      <td>24</td>\n",
       "      <td>0.0</td>\n",
       "      <td>0</td>\n",
       "      <td>0</td>\n",
       "      <td>0</td>\n",
       "      <td>0</td>\n",
       "      <td>0</td>\n",
       "      <td>0</td>\n",
       "      <td>0</td>\n",
       "      <td>0.0</td>\n",
       "      <td>2489</td>\n",
       "    </tr>\n",
       "    <tr>\n",
       "      <th>1</th>\n",
       "      <td>Both</td>\n",
       "      <td>405d1bbebbf</td>\n",
       "      <td>Grade 2</td>\n",
       "      <td>44</td>\n",
       "      <td>0.0</td>\n",
       "      <td>0</td>\n",
       "      <td>0</td>\n",
       "      <td>0</td>\n",
       "      <td>0</td>\n",
       "      <td>0</td>\n",
       "      <td>0</td>\n",
       "      <td>0</td>\n",
       "      <td>1.0</td>\n",
       "      <td>4423</td>\n",
       "    </tr>\n",
       "    <tr>\n",
       "      <th>2</th>\n",
       "      <td>Both</td>\n",
       "      <td>351d9bc71f6</td>\n",
       "      <td>Grade 1</td>\n",
       "      <td>36</td>\n",
       "      <td>0.0</td>\n",
       "      <td>0</td>\n",
       "      <td>0</td>\n",
       "      <td>0</td>\n",
       "      <td>0</td>\n",
       "      <td>0</td>\n",
       "      <td>0</td>\n",
       "      <td>0</td>\n",
       "      <td>0.0</td>\n",
       "      <td>3650</td>\n",
       "    </tr>\n",
       "    <tr>\n",
       "      <th>3</th>\n",
       "      <td>Building removed</td>\n",
       "      <td>2be3a971166</td>\n",
       "      <td>Grade 5</td>\n",
       "      <td>30</td>\n",
       "      <td>0.0</td>\n",
       "      <td>0</td>\n",
       "      <td>0</td>\n",
       "      <td>0</td>\n",
       "      <td>0</td>\n",
       "      <td>0</td>\n",
       "      <td>0</td>\n",
       "      <td>0</td>\n",
       "      <td>0.0</td>\n",
       "      <td>3016</td>\n",
       "    </tr>\n",
       "    <tr>\n",
       "      <th>4</th>\n",
       "      <td>Both</td>\n",
       "      <td>34c7d073ea6</td>\n",
       "      <td>Grade 3</td>\n",
       "      <td>36</td>\n",
       "      <td>0.0</td>\n",
       "      <td>0</td>\n",
       "      <td>0</td>\n",
       "      <td>0</td>\n",
       "      <td>0</td>\n",
       "      <td>0</td>\n",
       "      <td>0</td>\n",
       "      <td>0</td>\n",
       "      <td>0.0</td>\n",
       "      <td>3627</td>\n",
       "    </tr>\n",
       "  </tbody>\n",
       "</table>\n",
       "</div>"
      ],
      "text/plain": [
       "       area_assesed  building_id damage_grade  district_id  \\\n",
       "0              Both  24385bfd2a2      Grade 4           24   \n",
       "1              Both  405d1bbebbf      Grade 2           44   \n",
       "2              Both  351d9bc71f6      Grade 1           36   \n",
       "3  Building removed  2be3a971166      Grade 5           30   \n",
       "4              Both  34c7d073ea6      Grade 3           36   \n",
       "\n",
       "   has_geotechnical_risk  has_geotechnical_risk_fault_crack  \\\n",
       "0                    0.0                                  0   \n",
       "1                    0.0                                  0   \n",
       "2                    0.0                                  0   \n",
       "3                    0.0                                  0   \n",
       "4                    0.0                                  0   \n",
       "\n",
       "   has_geotechnical_risk_flood  has_geotechnical_risk_land_settlement  \\\n",
       "0                            0                                      0   \n",
       "1                            0                                      0   \n",
       "2                            0                                      0   \n",
       "3                            0                                      0   \n",
       "4                            0                                      0   \n",
       "\n",
       "   has_geotechnical_risk_landslide  has_geotechnical_risk_liquefaction  \\\n",
       "0                                0                                   0   \n",
       "1                                0                                   0   \n",
       "2                                0                                   0   \n",
       "3                                0                                   0   \n",
       "4                                0                                   0   \n",
       "\n",
       "   has_geotechnical_risk_other  has_geotechnical_risk_rock_fall  \\\n",
       "0                            0                                0   \n",
       "1                            0                                0   \n",
       "2                            0                                0   \n",
       "3                            0                                0   \n",
       "4                            0                                0   \n",
       "\n",
       "   has_repair_started  vdcmun_id  \n",
       "0                 0.0       2489  \n",
       "1                 1.0       4423  \n",
       "2                 0.0       3650  \n",
       "3                 0.0       3016  \n",
       "4                 0.0       3627  "
      ]
     },
     "execution_count": 4,
     "metadata": {},
     "output_type": "execute_result"
    }
   ],
   "source": [
    "train_data.head(5)"
   ]
  },
  {
   "cell_type": "code",
   "execution_count": 5,
   "metadata": {},
   "outputs": [
    {
     "data": {
      "text/plain": [
       "array(['Both', 'Building removed', 'Exterior', 'Not able to inspect',\n",
       "       'Interior'], dtype=object)"
      ]
     },
     "execution_count": 5,
     "metadata": {},
     "output_type": "execute_result"
    }
   ],
   "source": [
    "train_data['area_assesed'].unique()"
   ]
  },
  {
   "cell_type": "code",
   "execution_count": 6,
   "metadata": {},
   "outputs": [
    {
     "data": {
      "text/plain": [
       "array(['Grade 4', 'Grade 2', 'Grade 1', 'Grade 5', 'Grade 3'], dtype=object)"
      ]
     },
     "execution_count": 6,
     "metadata": {},
     "output_type": "execute_result"
    }
   ],
   "source": [
    "train_data['damage_grade'].unique()"
   ]
  },
  {
   "cell_type": "code",
   "execution_count": 7,
   "metadata": {},
   "outputs": [
    {
     "data": {
      "text/plain": [
       "array([ 0.,  1.])"
      ]
     },
     "execution_count": 7,
     "metadata": {},
     "output_type": "execute_result"
    }
   ],
   "source": [
    "train_data['has_geotechnical_risk'].unique()"
   ]
  },
  {
   "cell_type": "code",
   "execution_count": 8,
   "metadata": {},
   "outputs": [
    {
     "data": {
      "text/plain": [
       "1420"
      ]
     },
     "execution_count": 8,
     "metadata": {},
     "output_type": "execute_result"
    }
   ],
   "source": [
    "len(train_data['vdcmun_id'].unique())"
   ]
  },
  {
   "cell_type": "code",
   "execution_count": 9,
   "metadata": {},
   "outputs": [
    {
     "data": {
      "text/plain": [
       "31"
      ]
     },
     "execution_count": 9,
     "metadata": {},
     "output_type": "execute_result"
    }
   ],
   "source": [
    "len(train_data['district_id'].unique())"
   ]
  },
  {
   "cell_type": "code",
   "execution_count": 10,
   "metadata": {},
   "outputs": [],
   "source": [
    "## filling missing values ##\n",
    "train_data['has_repair_started'].fillna(0,inplace = True)"
   ]
  },
  {
   "cell_type": "code",
   "execution_count": 11,
   "metadata": {},
   "outputs": [
    {
     "name": "stdout",
     "output_type": "stream",
     "text": [
      "<class 'pandas.core.frame.DataFrame'>\n",
      "RangeIndex: 631761 entries, 0 to 631760\n",
      "Data columns (total 14 columns):\n",
      "area_assesed                             631761 non-null object\n",
      "building_id                              631761 non-null object\n",
      "damage_grade                             631761 non-null object\n",
      "district_id                              631761 non-null int64\n",
      "has_geotechnical_risk                    631761 non-null float64\n",
      "has_geotechnical_risk_fault_crack        631761 non-null int64\n",
      "has_geotechnical_risk_flood              631761 non-null int64\n",
      "has_geotechnical_risk_land_settlement    631761 non-null int64\n",
      "has_geotechnical_risk_landslide          631761 non-null int64\n",
      "has_geotechnical_risk_liquefaction       631761 non-null int64\n",
      "has_geotechnical_risk_other              631761 non-null int64\n",
      "has_geotechnical_risk_rock_fall          631761 non-null int64\n",
      "has_repair_started                       631761 non-null float64\n",
      "vdcmun_id                                631761 non-null int64\n",
      "dtypes: float64(2), int64(9), object(3)\n",
      "memory usage: 67.5+ MB\n"
     ]
    }
   ],
   "source": [
    "train_data.info()"
   ]
  },
  {
   "cell_type": "code",
   "execution_count": 12,
   "metadata": {
    "collapsed": true
   },
   "outputs": [],
   "source": [
    "## dropping columns which are not useful ##\n",
    "def drop_features(data,features):\n",
    "    data.drop(features,inplace = True, axis = 1)"
   ]
  },
  {
   "cell_type": "code",
   "execution_count": 13,
   "metadata": {
    "collapsed": true
   },
   "outputs": [],
   "source": [
    "def convert_categorical_to_numerical(data,feature):\n",
    "    return pd.get_dummies(data[feature], drop_first = True, prefix = feature)"
   ]
  },
  {
   "cell_type": "code",
   "execution_count": 14,
   "metadata": {
    "collapsed": true
   },
   "outputs": [],
   "source": [
    "new_col = convert_categorical_to_numerical(train_data,'area_assesed')\n",
    "train_data = pd.concat([train_data,new_col],axis=1)\n",
    "drop_features(train_data,'area_assesed')"
   ]
  },
  {
   "cell_type": "code",
   "execution_count": 15,
   "metadata": {
    "collapsed": true
   },
   "outputs": [],
   "source": [
    "## deep analysis ##\n",
    "building_structure = pd.read_csv('./Dataset/Building_Structure.csv')"
   ]
  },
  {
   "cell_type": "code",
   "execution_count": 16,
   "metadata": {},
   "outputs": [
    {
     "name": "stdout",
     "output_type": "stream",
     "text": [
      "<class 'pandas.core.frame.DataFrame'>\n",
      "RangeIndex: 1052948 entries, 0 to 1052947\n",
      "Data columns (total 29 columns):\n",
      "building_id                               1052948 non-null object\n",
      "district_id                               1052948 non-null int64\n",
      "vdcmun_id                                 1052948 non-null int64\n",
      "ward_id                                   1052948 non-null int64\n",
      "count_floors_pre_eq                       1052948 non-null int64\n",
      "count_floors_post_eq                      1052948 non-null int64\n",
      "age_building                              1052948 non-null int64\n",
      "plinth_area_sq_ft                         1052948 non-null int64\n",
      "height_ft_pre_eq                          1052948 non-null int64\n",
      "height_ft_post_eq                         1052948 non-null int64\n",
      "land_surface_condition                    1052948 non-null object\n",
      "foundation_type                           1052948 non-null object\n",
      "roof_type                                 1052948 non-null object\n",
      "ground_floor_type                         1052948 non-null object\n",
      "other_floor_type                          1052948 non-null object\n",
      "position                                  1052947 non-null object\n",
      "plan_configuration                        1052947 non-null object\n",
      "has_superstructure_adobe_mud              1052948 non-null int64\n",
      "has_superstructure_mud_mortar_stone       1052948 non-null int64\n",
      "has_superstructure_stone_flag             1052948 non-null int64\n",
      "has_superstructure_cement_mortar_stone    1052948 non-null int64\n",
      "has_superstructure_mud_mortar_brick       1052948 non-null int64\n",
      "has_superstructure_cement_mortar_brick    1052948 non-null int64\n",
      "has_superstructure_timber                 1052948 non-null int64\n",
      "has_superstructure_bamboo                 1052948 non-null int64\n",
      "has_superstructure_rc_non_engineered      1052948 non-null int64\n",
      "has_superstructure_rc_engineered          1052948 non-null int64\n",
      "has_superstructure_other                  1052948 non-null int64\n",
      "condition_post_eq                         1052948 non-null object\n",
      "dtypes: int64(20), object(9)\n",
      "memory usage: 233.0+ MB\n"
     ]
    }
   ],
   "source": [
    "building_structure.info()"
   ]
  },
  {
   "cell_type": "code",
   "execution_count": 17,
   "metadata": {
    "collapsed": true
   },
   "outputs": [],
   "source": [
    "building_structure.dropna(inplace = True)"
   ]
  },
  {
   "cell_type": "code",
   "execution_count": 20,
   "metadata": {},
   "outputs": [
    {
     "name": "stdout",
     "output_type": "stream",
     "text": [
      "['building_id', 'land_surface_condition', 'foundation_type', 'roof_type', 'ground_floor_type', 'other_floor_type', 'position', 'plan_configuration', 'condition_post_eq']\n"
     ]
    }
   ],
   "source": [
    "categorical_values = [col for col in building_structure.columns if building_structure[col].dtype == 'O']\n",
    "print(categorical_values)"
   ]
  },
  {
   "cell_type": "code",
   "execution_count": 21,
   "metadata": {},
   "outputs": [],
   "source": [
    "for col in categorical_values[1:]:\n",
    "    new_col = convert_categorical_to_numerical(building_structure,col)\n",
    "    building_structure = pd.concat([building_structure,new_col],axis=1)"
   ]
  },
  {
   "cell_type": "code",
   "execution_count": 24,
   "metadata": {},
   "outputs": [
    {
     "data": {
      "text/plain": [
       "['vdcmun_id', 'district_id', 'building_id']"
      ]
     },
     "execution_count": 24,
     "metadata": {},
     "output_type": "execute_result"
    }
   ],
   "source": [
    "common_cols = list(set(train_data.columns).intersection(set(building_structure.columns)))\n",
    "common_cols"
   ]
  },
  {
   "cell_type": "code",
   "execution_count": 26,
   "metadata": {},
   "outputs": [
    {
     "data": {
      "text/plain": [
       "'building_id'"
      ]
     },
     "execution_count": 26,
     "metadata": {},
     "output_type": "execute_result"
    }
   ],
   "source": [
    "common_cols.pop(2)"
   ]
  },
  {
   "cell_type": "code",
   "execution_count": 27,
   "metadata": {},
   "outputs": [
    {
     "data": {
      "text/plain": [
       "['vdcmun_id', 'district_id']"
      ]
     },
     "execution_count": 27,
     "metadata": {},
     "output_type": "execute_result"
    }
   ],
   "source": [
    "common_cols"
   ]
  },
  {
   "cell_type": "code",
   "execution_count": 28,
   "metadata": {},
   "outputs": [],
   "source": [
    "drop_features(building_structure,categorical_values[1:] + common_cols)"
   ]
  },
  {
   "cell_type": "code",
   "execution_count": 29,
   "metadata": {
    "collapsed": true
   },
   "outputs": [],
   "source": [
    "## merging with train data ##"
   ]
  },
  {
   "cell_type": "code",
   "execution_count": 30,
   "metadata": {},
   "outputs": [
    {
     "data": {
      "text/plain": [
       "['building_id']"
      ]
     },
     "execution_count": 30,
     "metadata": {},
     "output_type": "execute_result"
    }
   ],
   "source": [
    "[col for col in building_structure.columns if building_structure[col].dtype == 'O']"
   ]
  },
  {
   "cell_type": "code",
   "execution_count": 31,
   "metadata": {
    "collapsed": true
   },
   "outputs": [],
   "source": [
    "train_data = pd.merge(train_data,building_structure,how=\"left\",on=['building_id'])"
   ]
  },
  {
   "cell_type": "code",
   "execution_count": 32,
   "metadata": {},
   "outputs": [
    {
     "data": {
      "text/plain": [
       "['building_id', 'damage_grade']"
      ]
     },
     "execution_count": 32,
     "metadata": {},
     "output_type": "execute_result"
    }
   ],
   "source": [
    "[col for col in train_data.columns if train_data[col].dtype == 'O']"
   ]
  },
  {
   "cell_type": "code",
   "execution_count": 33,
   "metadata": {},
   "outputs": [
    {
     "name": "stdout",
     "output_type": "stream",
     "text": [
      "<class 'pandas.core.frame.DataFrame'>\n",
      "Int64Index: 631761 entries, 0 to 631760\n",
      "Data columns (total 69 columns):\n",
      "building_id                                                  631761 non-null object\n",
      "damage_grade                                                 631761 non-null object\n",
      "district_id                                                  631761 non-null int64\n",
      "has_geotechnical_risk                                        631761 non-null float64\n",
      "has_geotechnical_risk_fault_crack                            631761 non-null int64\n",
      "has_geotechnical_risk_flood                                  631761 non-null int64\n",
      "has_geotechnical_risk_land_settlement                        631761 non-null int64\n",
      "has_geotechnical_risk_landslide                              631761 non-null int64\n",
      "has_geotechnical_risk_liquefaction                           631761 non-null int64\n",
      "has_geotechnical_risk_other                                  631761 non-null int64\n",
      "has_geotechnical_risk_rock_fall                              631761 non-null int64\n",
      "has_repair_started                                           631761 non-null float64\n",
      "vdcmun_id                                                    631761 non-null int64\n",
      "area_assesed_Building removed                                631761 non-null uint8\n",
      "area_assesed_Exterior                                        631761 non-null uint8\n",
      "area_assesed_Interior                                        631761 non-null uint8\n",
      "area_assesed_Not able to inspect                             631761 non-null uint8\n",
      "ward_id                                                      631761 non-null int64\n",
      "count_floors_pre_eq                                          631761 non-null int64\n",
      "count_floors_post_eq                                         631761 non-null int64\n",
      "age_building                                                 631761 non-null int64\n",
      "plinth_area_sq_ft                                            631761 non-null int64\n",
      "height_ft_pre_eq                                             631761 non-null int64\n",
      "height_ft_post_eq                                            631761 non-null int64\n",
      "has_superstructure_adobe_mud                                 631761 non-null int64\n",
      "has_superstructure_mud_mortar_stone                          631761 non-null int64\n",
      "has_superstructure_stone_flag                                631761 non-null int64\n",
      "has_superstructure_cement_mortar_stone                       631761 non-null int64\n",
      "has_superstructure_mud_mortar_brick                          631761 non-null int64\n",
      "has_superstructure_cement_mortar_brick                       631761 non-null int64\n",
      "has_superstructure_timber                                    631761 non-null int64\n",
      "has_superstructure_bamboo                                    631761 non-null int64\n",
      "has_superstructure_rc_non_engineered                         631761 non-null int64\n",
      "has_superstructure_rc_engineered                             631761 non-null int64\n",
      "has_superstructure_other                                     631761 non-null int64\n",
      "land_surface_condition_Moderate slope                        631761 non-null uint8\n",
      "land_surface_condition_Steep slope                           631761 non-null uint8\n",
      "foundation_type_Cement-Stone/Brick                           631761 non-null uint8\n",
      "foundation_type_Mud mortar-Stone/Brick                       631761 non-null uint8\n",
      "foundation_type_Other                                        631761 non-null uint8\n",
      "foundation_type_RC                                           631761 non-null uint8\n",
      "roof_type_Bamboo/Timber-Light roof                           631761 non-null uint8\n",
      "roof_type_RCC/RB/RBC                                         631761 non-null uint8\n",
      "ground_floor_type_Mud                                        631761 non-null uint8\n",
      "ground_floor_type_Other                                      631761 non-null uint8\n",
      "ground_floor_type_RC                                         631761 non-null uint8\n",
      "ground_floor_type_Timber                                     631761 non-null uint8\n",
      "other_floor_type_RCC/RB/RBC                                  631761 non-null uint8\n",
      "other_floor_type_TImber/Bamboo-Mud                           631761 non-null uint8\n",
      "other_floor_type_Timber-Planck                               631761 non-null uint8\n",
      "position_Attached-2 side                                     631761 non-null uint8\n",
      "position_Attached-3 side                                     631761 non-null uint8\n",
      "position_Not attached                                        631761 non-null uint8\n",
      "plan_configuration_E-shape                                   631761 non-null uint8\n",
      "plan_configuration_H-shape                                   631761 non-null uint8\n",
      "plan_configuration_L-shape                                   631761 non-null uint8\n",
      "plan_configuration_Multi-projected                           631761 non-null uint8\n",
      "plan_configuration_Others                                    631761 non-null uint8\n",
      "plan_configuration_Rectangular                               631761 non-null uint8\n",
      "plan_configuration_Square                                    631761 non-null uint8\n",
      "plan_configuration_T-shape                                   631761 non-null uint8\n",
      "plan_configuration_U-shape                                   631761 non-null uint8\n",
      "condition_post_eq_Damaged-Not used                           631761 non-null uint8\n",
      "condition_post_eq_Damaged-Repaired and used                  631761 non-null uint8\n",
      "condition_post_eq_Damaged-Rubble Clear-New building built    631761 non-null uint8\n",
      "condition_post_eq_Damaged-Rubble clear                       631761 non-null uint8\n",
      "condition_post_eq_Damaged-Rubble unclear                     631761 non-null uint8\n",
      "condition_post_eq_Damaged-Used in risk                       631761 non-null uint8\n",
      "condition_post_eq_Not damaged                                631761 non-null uint8\n",
      "dtypes: float64(2), int64(27), object(2), uint8(38)\n",
      "memory usage: 177.1+ MB\n"
     ]
    }
   ],
   "source": [
    "train_data.info()"
   ]
  },
  {
   "cell_type": "code",
   "execution_count": 34,
   "metadata": {
    "collapsed": true
   },
   "outputs": [],
   "source": [
    "## deep analysis on building ownership ##"
   ]
  },
  {
   "cell_type": "code",
   "execution_count": 35,
   "metadata": {
    "collapsed": true
   },
   "outputs": [],
   "source": [
    "building_ownership = pd.read_csv('./Dataset/Building_Ownership_Use.csv')"
   ]
  },
  {
   "cell_type": "code",
   "execution_count": 36,
   "metadata": {},
   "outputs": [
    {
     "name": "stdout",
     "output_type": "stream",
     "text": [
      "<class 'pandas.core.frame.DataFrame'>\n",
      "RangeIndex: 1052948 entries, 0 to 1052947\n",
      "Data columns (total 17 columns):\n",
      "building_id                      1052948 non-null object\n",
      "district_id                      1052948 non-null int64\n",
      "vdcmun_id                        1052948 non-null int64\n",
      "ward_id                          1052948 non-null int64\n",
      "legal_ownership_status           1052948 non-null object\n",
      "count_families                   1052946 non-null float64\n",
      "has_secondary_use                1052938 non-null float64\n",
      "has_secondary_use_agriculture    1052948 non-null int64\n",
      "has_secondary_use_hotel          1052948 non-null int64\n",
      "has_secondary_use_rental         1052948 non-null int64\n",
      "has_secondary_use_institution    1052948 non-null int64\n",
      "has_secondary_use_school         1052948 non-null int64\n",
      "has_secondary_use_industry       1052948 non-null int64\n",
      "has_secondary_use_health_post    1052948 non-null int64\n",
      "has_secondary_use_gov_office     1052948 non-null int64\n",
      "has_secondary_use_use_police     1052948 non-null int64\n",
      "has_secondary_use_other          1052948 non-null int64\n",
      "dtypes: float64(2), int64(13), object(2)\n",
      "memory usage: 136.6+ MB\n"
     ]
    }
   ],
   "source": [
    "building_ownership.info()"
   ]
  },
  {
   "cell_type": "code",
   "execution_count": 37,
   "metadata": {},
   "outputs": [
    {
     "data": {
      "text/plain": [
       "array(['Private', 'Other', 'Public', 'Institutional'], dtype=object)"
      ]
     },
     "execution_count": 37,
     "metadata": {},
     "output_type": "execute_result"
    }
   ],
   "source": [
    "building_ownership['legal_ownership_status'].unique()"
   ]
  },
  {
   "cell_type": "code",
   "execution_count": 38,
   "metadata": {
    "collapsed": true
   },
   "outputs": [],
   "source": [
    "new_col = convert_categorical_to_numerical(building_ownership,'legal_ownership_status')\n",
    "building_ownership = pd.concat([building_ownership,new_col],axis=1)"
   ]
  },
  {
   "cell_type": "code",
   "execution_count": 40,
   "metadata": {},
   "outputs": [
    {
     "data": {
      "text/plain": [
       "['building_id', 'vdcmun_id', 'district_id', 'ward_id']"
      ]
     },
     "execution_count": 40,
     "metadata": {},
     "output_type": "execute_result"
    }
   ],
   "source": [
    "common_cols = list(set(train_data.columns).intersection(set(building_ownership.columns)))\n",
    "common_cols"
   ]
  },
  {
   "cell_type": "code",
   "execution_count": 41,
   "metadata": {},
   "outputs": [
    {
     "data": {
      "text/plain": [
       "'building_id'"
      ]
     },
     "execution_count": 41,
     "metadata": {},
     "output_type": "execute_result"
    }
   ],
   "source": [
    "common_cols.pop(0)"
   ]
  },
  {
   "cell_type": "code",
   "execution_count": 42,
   "metadata": {},
   "outputs": [
    {
     "data": {
      "text/plain": [
       "['vdcmun_id', 'district_id', 'ward_id']"
      ]
     },
     "execution_count": 42,
     "metadata": {},
     "output_type": "execute_result"
    }
   ],
   "source": [
    "common_cols"
   ]
  },
  {
   "cell_type": "code",
   "execution_count": 43,
   "metadata": {
    "collapsed": true
   },
   "outputs": [],
   "source": [
    "drop_features(building_ownership,['legal_ownership_status'] + common_cols)"
   ]
  },
  {
   "cell_type": "code",
   "execution_count": 44,
   "metadata": {},
   "outputs": [
    {
     "name": "stdout",
     "output_type": "stream",
     "text": [
      "<class 'pandas.core.frame.DataFrame'>\n",
      "RangeIndex: 1052948 entries, 0 to 1052947\n",
      "Data columns (total 16 columns):\n",
      "building_id                       1052948 non-null object\n",
      "count_families                    1052946 non-null float64\n",
      "has_secondary_use                 1052938 non-null float64\n",
      "has_secondary_use_agriculture     1052948 non-null int64\n",
      "has_secondary_use_hotel           1052948 non-null int64\n",
      "has_secondary_use_rental          1052948 non-null int64\n",
      "has_secondary_use_institution     1052948 non-null int64\n",
      "has_secondary_use_school          1052948 non-null int64\n",
      "has_secondary_use_industry        1052948 non-null int64\n",
      "has_secondary_use_health_post     1052948 non-null int64\n",
      "has_secondary_use_gov_office      1052948 non-null int64\n",
      "has_secondary_use_use_police      1052948 non-null int64\n",
      "has_secondary_use_other           1052948 non-null int64\n",
      "legal_ownership_status_Other      1052948 non-null uint8\n",
      "legal_ownership_status_Private    1052948 non-null uint8\n",
      "legal_ownership_status_Public     1052948 non-null uint8\n",
      "dtypes: float64(2), int64(10), object(1), uint8(3)\n",
      "memory usage: 107.4+ MB\n"
     ]
    }
   ],
   "source": [
    "building_ownership.info()"
   ]
  },
  {
   "cell_type": "code",
   "execution_count": 45,
   "metadata": {
    "collapsed": true
   },
   "outputs": [],
   "source": [
    "## merging building_ownership with train data ##"
   ]
  },
  {
   "cell_type": "code",
   "execution_count": 47,
   "metadata": {},
   "outputs": [],
   "source": [
    "train_data = pd.merge(train_data,building_ownership,how=\"left\",on=\"building_id\")"
   ]
  },
  {
   "cell_type": "code",
   "execution_count": 48,
   "metadata": {},
   "outputs": [
    {
     "name": "stdout",
     "output_type": "stream",
     "text": [
      "<class 'pandas.core.frame.DataFrame'>\n",
      "Int64Index: 631761 entries, 0 to 631760\n",
      "Data columns (total 84 columns):\n",
      "building_id                                                  631761 non-null object\n",
      "damage_grade                                                 631761 non-null object\n",
      "district_id                                                  631761 non-null int64\n",
      "has_geotechnical_risk                                        631761 non-null float64\n",
      "has_geotechnical_risk_fault_crack                            631761 non-null int64\n",
      "has_geotechnical_risk_flood                                  631761 non-null int64\n",
      "has_geotechnical_risk_land_settlement                        631761 non-null int64\n",
      "has_geotechnical_risk_landslide                              631761 non-null int64\n",
      "has_geotechnical_risk_liquefaction                           631761 non-null int64\n",
      "has_geotechnical_risk_other                                  631761 non-null int64\n",
      "has_geotechnical_risk_rock_fall                              631761 non-null int64\n",
      "has_repair_started                                           631761 non-null float64\n",
      "vdcmun_id                                                    631761 non-null int64\n",
      "area_assesed_Building removed                                631761 non-null uint8\n",
      "area_assesed_Exterior                                        631761 non-null uint8\n",
      "area_assesed_Interior                                        631761 non-null uint8\n",
      "area_assesed_Not able to inspect                             631761 non-null uint8\n",
      "ward_id                                                      631761 non-null int64\n",
      "count_floors_pre_eq                                          631761 non-null int64\n",
      "count_floors_post_eq                                         631761 non-null int64\n",
      "age_building                                                 631761 non-null int64\n",
      "plinth_area_sq_ft                                            631761 non-null int64\n",
      "height_ft_pre_eq                                             631761 non-null int64\n",
      "height_ft_post_eq                                            631761 non-null int64\n",
      "has_superstructure_adobe_mud                                 631761 non-null int64\n",
      "has_superstructure_mud_mortar_stone                          631761 non-null int64\n",
      "has_superstructure_stone_flag                                631761 non-null int64\n",
      "has_superstructure_cement_mortar_stone                       631761 non-null int64\n",
      "has_superstructure_mud_mortar_brick                          631761 non-null int64\n",
      "has_superstructure_cement_mortar_brick                       631761 non-null int64\n",
      "has_superstructure_timber                                    631761 non-null int64\n",
      "has_superstructure_bamboo                                    631761 non-null int64\n",
      "has_superstructure_rc_non_engineered                         631761 non-null int64\n",
      "has_superstructure_rc_engineered                             631761 non-null int64\n",
      "has_superstructure_other                                     631761 non-null int64\n",
      "land_surface_condition_Moderate slope                        631761 non-null uint8\n",
      "land_surface_condition_Steep slope                           631761 non-null uint8\n",
      "foundation_type_Cement-Stone/Brick                           631761 non-null uint8\n",
      "foundation_type_Mud mortar-Stone/Brick                       631761 non-null uint8\n",
      "foundation_type_Other                                        631761 non-null uint8\n",
      "foundation_type_RC                                           631761 non-null uint8\n",
      "roof_type_Bamboo/Timber-Light roof                           631761 non-null uint8\n",
      "roof_type_RCC/RB/RBC                                         631761 non-null uint8\n",
      "ground_floor_type_Mud                                        631761 non-null uint8\n",
      "ground_floor_type_Other                                      631761 non-null uint8\n",
      "ground_floor_type_RC                                         631761 non-null uint8\n",
      "ground_floor_type_Timber                                     631761 non-null uint8\n",
      "other_floor_type_RCC/RB/RBC                                  631761 non-null uint8\n",
      "other_floor_type_TImber/Bamboo-Mud                           631761 non-null uint8\n",
      "other_floor_type_Timber-Planck                               631761 non-null uint8\n",
      "position_Attached-2 side                                     631761 non-null uint8\n",
      "position_Attached-3 side                                     631761 non-null uint8\n",
      "position_Not attached                                        631761 non-null uint8\n",
      "plan_configuration_E-shape                                   631761 non-null uint8\n",
      "plan_configuration_H-shape                                   631761 non-null uint8\n",
      "plan_configuration_L-shape                                   631761 non-null uint8\n",
      "plan_configuration_Multi-projected                           631761 non-null uint8\n",
      "plan_configuration_Others                                    631761 non-null uint8\n",
      "plan_configuration_Rectangular                               631761 non-null uint8\n",
      "plan_configuration_Square                                    631761 non-null uint8\n",
      "plan_configuration_T-shape                                   631761 non-null uint8\n",
      "plan_configuration_U-shape                                   631761 non-null uint8\n",
      "condition_post_eq_Damaged-Not used                           631761 non-null uint8\n",
      "condition_post_eq_Damaged-Repaired and used                  631761 non-null uint8\n",
      "condition_post_eq_Damaged-Rubble Clear-New building built    631761 non-null uint8\n",
      "condition_post_eq_Damaged-Rubble clear                       631761 non-null uint8\n",
      "condition_post_eq_Damaged-Rubble unclear                     631761 non-null uint8\n",
      "condition_post_eq_Damaged-Used in risk                       631761 non-null uint8\n",
      "condition_post_eq_Not damaged                                631761 non-null uint8\n",
      "count_families                                               631760 non-null float64\n",
      "has_secondary_use                                            631761 non-null float64\n",
      "has_secondary_use_agriculture                                631761 non-null int64\n",
      "has_secondary_use_hotel                                      631761 non-null int64\n",
      "has_secondary_use_rental                                     631761 non-null int64\n",
      "has_secondary_use_institution                                631761 non-null int64\n",
      "has_secondary_use_school                                     631761 non-null int64\n",
      "has_secondary_use_industry                                   631761 non-null int64\n",
      "has_secondary_use_health_post                                631761 non-null int64\n",
      "has_secondary_use_gov_office                                 631761 non-null int64\n",
      "has_secondary_use_use_police                                 631761 non-null int64\n",
      "has_secondary_use_other                                      631761 non-null int64\n",
      "legal_ownership_status_Other                                 631761 non-null uint8\n",
      "legal_ownership_status_Private                               631761 non-null uint8\n",
      "legal_ownership_status_Public                                631761 non-null uint8\n",
      "dtypes: float64(4), int64(37), object(2), uint8(41)\n",
      "memory usage: 236.8+ MB\n"
     ]
    }
   ],
   "source": [
    "train_data.info()"
   ]
  },
  {
   "cell_type": "code",
   "execution_count": 57,
   "metadata": {},
   "outputs": [],
   "source": [
    "## we have one null value in count_families ##\n",
    "train_data['count_families'].fillna(train_data['count_families'].mode()[0],inplace=True)"
   ]
  },
  {
   "cell_type": "code",
   "execution_count": 58,
   "metadata": {
    "collapsed": true
   },
   "outputs": [],
   "source": [
    "## fitting the model with the train data ##"
   ]
  },
  {
   "cell_type": "code",
   "execution_count": 59,
   "metadata": {
    "collapsed": true
   },
   "outputs": [],
   "source": [
    "from sklearn.ensemble import RandomForestClassifier\n",
    "model = RandomForestClassifier()"
   ]
  },
  {
   "cell_type": "code",
   "execution_count": 60,
   "metadata": {},
   "outputs": [
    {
     "data": {
      "text/plain": [
       "RandomForestClassifier(bootstrap=True, class_weight=None, criterion='gini',\n",
       "            max_depth=None, max_features='auto', max_leaf_nodes=None,\n",
       "            min_impurity_decrease=0.0, min_impurity_split=None,\n",
       "            min_samples_leaf=1, min_samples_split=2,\n",
       "            min_weight_fraction_leaf=0.0, n_estimators=10, n_jobs=1,\n",
       "            oob_score=False, random_state=None, verbose=0,\n",
       "            warm_start=False)"
      ]
     },
     "execution_count": 60,
     "metadata": {},
     "output_type": "execute_result"
    }
   ],
   "source": [
    "model.fit(train_data.drop(['building_id','damage_grade'],axis = 1),train_data['damage_grade'])"
   ]
  },
  {
   "cell_type": "code",
   "execution_count": 61,
   "metadata": {
    "collapsed": true
   },
   "outputs": [],
   "source": [
    "## reading test data ##\n",
    "test_data = pd.read_csv('./Dataset/test.csv')"
   ]
  },
  {
   "cell_type": "code",
   "execution_count": 62,
   "metadata": {},
   "outputs": [
    {
     "name": "stdout",
     "output_type": "stream",
     "text": [
      "<class 'pandas.core.frame.DataFrame'>\n",
      "RangeIndex: 421175 entries, 0 to 421174\n",
      "Data columns (total 13 columns):\n",
      "area_assesed                             421175 non-null object\n",
      "building_id                              421175 non-null object\n",
      "district_id                              421175 non-null int64\n",
      "has_geotechnical_risk                    421175 non-null float64\n",
      "has_geotechnical_risk_fault_crack        421175 non-null int64\n",
      "has_geotechnical_risk_flood              421175 non-null int64\n",
      "has_geotechnical_risk_land_settlement    421175 non-null int64\n",
      "has_geotechnical_risk_landslide          421175 non-null int64\n",
      "has_geotechnical_risk_liquefaction       421175 non-null int64\n",
      "has_geotechnical_risk_other              421175 non-null int64\n",
      "has_geotechnical_risk_rock_fall          421175 non-null int64\n",
      "has_repair_started                       399253 non-null float64\n",
      "vdcmun_id                                421175 non-null int64\n",
      "dtypes: float64(2), int64(9), object(2)\n",
      "memory usage: 41.8+ MB\n"
     ]
    }
   ],
   "source": [
    "test_data.info()"
   ]
  },
  {
   "cell_type": "code",
   "execution_count": 63,
   "metadata": {
    "collapsed": true
   },
   "outputs": [],
   "source": [
    "## filling missing values ##\n",
    "test_data['has_repair_started'].fillna(test_data['has_repair_started'].mode()[0], inplace = True)"
   ]
  },
  {
   "cell_type": "code",
   "execution_count": 64,
   "metadata": {},
   "outputs": [],
   "source": [
    "area_assesed = convert_categorical_to_numerical(test_data,'area_assesed')\n",
    "test_data = pd.concat([test_data,area_assesed], axis = 1)"
   ]
  },
  {
   "cell_type": "code",
   "execution_count": 66,
   "metadata": {
    "collapsed": true
   },
   "outputs": [],
   "source": [
    "drop_features(test_data,['area_assesed'])"
   ]
  },
  {
   "cell_type": "code",
   "execution_count": 71,
   "metadata": {},
   "outputs": [
    {
     "data": {
      "text/plain": [
       "['building_id']"
      ]
     },
     "execution_count": 71,
     "metadata": {},
     "output_type": "execute_result"
    }
   ],
   "source": [
    "common_cols = list(set(test_data.columns).intersection(set(building_structure.columns)))\n",
    "common_cols"
   ]
  },
  {
   "cell_type": "code",
   "execution_count": 67,
   "metadata": {
    "collapsed": true
   },
   "outputs": [],
   "source": [
    "## merging building structure data with test data ##"
   ]
  },
  {
   "cell_type": "code",
   "execution_count": 68,
   "metadata": {
    "collapsed": true
   },
   "outputs": [],
   "source": [
    "test_data = pd.merge(test_data,building_structure,how='left',on='building_id')"
   ]
  },
  {
   "cell_type": "code",
   "execution_count": 69,
   "metadata": {},
   "outputs": [
    {
     "name": "stdout",
     "output_type": "stream",
     "text": [
      "<class 'pandas.core.frame.DataFrame'>\n",
      "Int64Index: 421175 entries, 0 to 421174\n",
      "Data columns (total 68 columns):\n",
      "building_id                                                  421175 non-null object\n",
      "district_id                                                  421175 non-null int64\n",
      "has_geotechnical_risk                                        421175 non-null float64\n",
      "has_geotechnical_risk_fault_crack                            421175 non-null int64\n",
      "has_geotechnical_risk_flood                                  421175 non-null int64\n",
      "has_geotechnical_risk_land_settlement                        421175 non-null int64\n",
      "has_geotechnical_risk_landslide                              421175 non-null int64\n",
      "has_geotechnical_risk_liquefaction                           421175 non-null int64\n",
      "has_geotechnical_risk_other                                  421175 non-null int64\n",
      "has_geotechnical_risk_rock_fall                              421175 non-null int64\n",
      "has_repair_started                                           421175 non-null float64\n",
      "vdcmun_id                                                    421175 non-null int64\n",
      "area_assesed_Building removed                                421175 non-null uint8\n",
      "area_assesed_Exterior                                        421175 non-null uint8\n",
      "area_assesed_Interior                                        421175 non-null uint8\n",
      "area_assesed_Not able to inspect                             421175 non-null uint8\n",
      "ward_id                                                      421175 non-null int64\n",
      "count_floors_pre_eq                                          421175 non-null int64\n",
      "count_floors_post_eq                                         421175 non-null int64\n",
      "age_building                                                 421175 non-null int64\n",
      "plinth_area_sq_ft                                            421175 non-null int64\n",
      "height_ft_pre_eq                                             421175 non-null int64\n",
      "height_ft_post_eq                                            421175 non-null int64\n",
      "has_superstructure_adobe_mud                                 421175 non-null int64\n",
      "has_superstructure_mud_mortar_stone                          421175 non-null int64\n",
      "has_superstructure_stone_flag                                421175 non-null int64\n",
      "has_superstructure_cement_mortar_stone                       421175 non-null int64\n",
      "has_superstructure_mud_mortar_brick                          421175 non-null int64\n",
      "has_superstructure_cement_mortar_brick                       421175 non-null int64\n",
      "has_superstructure_timber                                    421175 non-null int64\n",
      "has_superstructure_bamboo                                    421175 non-null int64\n",
      "has_superstructure_rc_non_engineered                         421175 non-null int64\n",
      "has_superstructure_rc_engineered                             421175 non-null int64\n",
      "has_superstructure_other                                     421175 non-null int64\n",
      "land_surface_condition_Moderate slope                        421175 non-null uint8\n",
      "land_surface_condition_Steep slope                           421175 non-null uint8\n",
      "foundation_type_Cement-Stone/Brick                           421175 non-null uint8\n",
      "foundation_type_Mud mortar-Stone/Brick                       421175 non-null uint8\n",
      "foundation_type_Other                                        421175 non-null uint8\n",
      "foundation_type_RC                                           421175 non-null uint8\n",
      "roof_type_Bamboo/Timber-Light roof                           421175 non-null uint8\n",
      "roof_type_RCC/RB/RBC                                         421175 non-null uint8\n",
      "ground_floor_type_Mud                                        421175 non-null uint8\n",
      "ground_floor_type_Other                                      421175 non-null uint8\n",
      "ground_floor_type_RC                                         421175 non-null uint8\n",
      "ground_floor_type_Timber                                     421175 non-null uint8\n",
      "other_floor_type_RCC/RB/RBC                                  421175 non-null uint8\n",
      "other_floor_type_TImber/Bamboo-Mud                           421175 non-null uint8\n",
      "other_floor_type_Timber-Planck                               421175 non-null uint8\n",
      "position_Attached-2 side                                     421175 non-null uint8\n",
      "position_Attached-3 side                                     421175 non-null uint8\n",
      "position_Not attached                                        421175 non-null uint8\n",
      "plan_configuration_E-shape                                   421175 non-null uint8\n",
      "plan_configuration_H-shape                                   421175 non-null uint8\n",
      "plan_configuration_L-shape                                   421175 non-null uint8\n",
      "plan_configuration_Multi-projected                           421175 non-null uint8\n",
      "plan_configuration_Others                                    421175 non-null uint8\n",
      "plan_configuration_Rectangular                               421175 non-null uint8\n",
      "plan_configuration_Square                                    421175 non-null uint8\n",
      "plan_configuration_T-shape                                   421175 non-null uint8\n",
      "plan_configuration_U-shape                                   421175 non-null uint8\n",
      "condition_post_eq_Damaged-Not used                           421175 non-null uint8\n",
      "condition_post_eq_Damaged-Repaired and used                  421175 non-null uint8\n",
      "condition_post_eq_Damaged-Rubble Clear-New building built    421175 non-null uint8\n",
      "condition_post_eq_Damaged-Rubble clear                       421175 non-null uint8\n",
      "condition_post_eq_Damaged-Rubble unclear                     421175 non-null uint8\n",
      "condition_post_eq_Damaged-Used in risk                       421175 non-null uint8\n",
      "condition_post_eq_Not damaged                                421175 non-null uint8\n",
      "dtypes: float64(2), int64(27), object(1), uint8(38)\n",
      "memory usage: 114.9+ MB\n"
     ]
    }
   ],
   "source": [
    "test_data.info()"
   ]
  },
  {
   "cell_type": "code",
   "execution_count": 72,
   "metadata": {},
   "outputs": [
    {
     "data": {
      "text/plain": [
       "['building_id']"
      ]
     },
     "execution_count": 72,
     "metadata": {},
     "output_type": "execute_result"
    }
   ],
   "source": [
    "common_cols = list(set(test_data.columns).intersection(set(building_ownership.columns)))\n",
    "common_cols"
   ]
  },
  {
   "cell_type": "code",
   "execution_count": 73,
   "metadata": {
    "collapsed": true
   },
   "outputs": [],
   "source": [
    "## merge building ownership data with test data ##"
   ]
  },
  {
   "cell_type": "code",
   "execution_count": 74,
   "metadata": {
    "collapsed": true
   },
   "outputs": [],
   "source": [
    "test_data = pd.merge(test_data,building_ownership,how='left',on='building_id')"
   ]
  },
  {
   "cell_type": "code",
   "execution_count": 75,
   "metadata": {},
   "outputs": [
    {
     "name": "stdout",
     "output_type": "stream",
     "text": [
      "<class 'pandas.core.frame.DataFrame'>\n",
      "Int64Index: 421175 entries, 0 to 421174\n",
      "Data columns (total 83 columns):\n",
      "building_id                                                  421175 non-null object\n",
      "district_id                                                  421175 non-null int64\n",
      "has_geotechnical_risk                                        421175 non-null float64\n",
      "has_geotechnical_risk_fault_crack                            421175 non-null int64\n",
      "has_geotechnical_risk_flood                                  421175 non-null int64\n",
      "has_geotechnical_risk_land_settlement                        421175 non-null int64\n",
      "has_geotechnical_risk_landslide                              421175 non-null int64\n",
      "has_geotechnical_risk_liquefaction                           421175 non-null int64\n",
      "has_geotechnical_risk_other                                  421175 non-null int64\n",
      "has_geotechnical_risk_rock_fall                              421175 non-null int64\n",
      "has_repair_started                                           421175 non-null float64\n",
      "vdcmun_id                                                    421175 non-null int64\n",
      "area_assesed_Building removed                                421175 non-null uint8\n",
      "area_assesed_Exterior                                        421175 non-null uint8\n",
      "area_assesed_Interior                                        421175 non-null uint8\n",
      "area_assesed_Not able to inspect                             421175 non-null uint8\n",
      "ward_id                                                      421175 non-null int64\n",
      "count_floors_pre_eq                                          421175 non-null int64\n",
      "count_floors_post_eq                                         421175 non-null int64\n",
      "age_building                                                 421175 non-null int64\n",
      "plinth_area_sq_ft                                            421175 non-null int64\n",
      "height_ft_pre_eq                                             421175 non-null int64\n",
      "height_ft_post_eq                                            421175 non-null int64\n",
      "has_superstructure_adobe_mud                                 421175 non-null int64\n",
      "has_superstructure_mud_mortar_stone                          421175 non-null int64\n",
      "has_superstructure_stone_flag                                421175 non-null int64\n",
      "has_superstructure_cement_mortar_stone                       421175 non-null int64\n",
      "has_superstructure_mud_mortar_brick                          421175 non-null int64\n",
      "has_superstructure_cement_mortar_brick                       421175 non-null int64\n",
      "has_superstructure_timber                                    421175 non-null int64\n",
      "has_superstructure_bamboo                                    421175 non-null int64\n",
      "has_superstructure_rc_non_engineered                         421175 non-null int64\n",
      "has_superstructure_rc_engineered                             421175 non-null int64\n",
      "has_superstructure_other                                     421175 non-null int64\n",
      "land_surface_condition_Moderate slope                        421175 non-null uint8\n",
      "land_surface_condition_Steep slope                           421175 non-null uint8\n",
      "foundation_type_Cement-Stone/Brick                           421175 non-null uint8\n",
      "foundation_type_Mud mortar-Stone/Brick                       421175 non-null uint8\n",
      "foundation_type_Other                                        421175 non-null uint8\n",
      "foundation_type_RC                                           421175 non-null uint8\n",
      "roof_type_Bamboo/Timber-Light roof                           421175 non-null uint8\n",
      "roof_type_RCC/RB/RBC                                         421175 non-null uint8\n",
      "ground_floor_type_Mud                                        421175 non-null uint8\n",
      "ground_floor_type_Other                                      421175 non-null uint8\n",
      "ground_floor_type_RC                                         421175 non-null uint8\n",
      "ground_floor_type_Timber                                     421175 non-null uint8\n",
      "other_floor_type_RCC/RB/RBC                                  421175 non-null uint8\n",
      "other_floor_type_TImber/Bamboo-Mud                           421175 non-null uint8\n",
      "other_floor_type_Timber-Planck                               421175 non-null uint8\n",
      "position_Attached-2 side                                     421175 non-null uint8\n",
      "position_Attached-3 side                                     421175 non-null uint8\n",
      "position_Not attached                                        421175 non-null uint8\n",
      "plan_configuration_E-shape                                   421175 non-null uint8\n",
      "plan_configuration_H-shape                                   421175 non-null uint8\n",
      "plan_configuration_L-shape                                   421175 non-null uint8\n",
      "plan_configuration_Multi-projected                           421175 non-null uint8\n",
      "plan_configuration_Others                                    421175 non-null uint8\n",
      "plan_configuration_Rectangular                               421175 non-null uint8\n",
      "plan_configuration_Square                                    421175 non-null uint8\n",
      "plan_configuration_T-shape                                   421175 non-null uint8\n",
      "plan_configuration_U-shape                                   421175 non-null uint8\n",
      "condition_post_eq_Damaged-Not used                           421175 non-null uint8\n",
      "condition_post_eq_Damaged-Repaired and used                  421175 non-null uint8\n",
      "condition_post_eq_Damaged-Rubble Clear-New building built    421175 non-null uint8\n",
      "condition_post_eq_Damaged-Rubble clear                       421175 non-null uint8\n",
      "condition_post_eq_Damaged-Rubble unclear                     421175 non-null uint8\n",
      "condition_post_eq_Damaged-Used in risk                       421175 non-null uint8\n",
      "condition_post_eq_Not damaged                                421175 non-null uint8\n",
      "count_families                                               421175 non-null float64\n",
      "has_secondary_use                                            421175 non-null float64\n",
      "has_secondary_use_agriculture                                421175 non-null int64\n",
      "has_secondary_use_hotel                                      421175 non-null int64\n",
      "has_secondary_use_rental                                     421175 non-null int64\n",
      "has_secondary_use_institution                                421175 non-null int64\n",
      "has_secondary_use_school                                     421175 non-null int64\n",
      "has_secondary_use_industry                                   421175 non-null int64\n",
      "has_secondary_use_health_post                                421175 non-null int64\n",
      "has_secondary_use_gov_office                                 421175 non-null int64\n",
      "has_secondary_use_use_police                                 421175 non-null int64\n",
      "has_secondary_use_other                                      421175 non-null int64\n",
      "legal_ownership_status_Other                                 421175 non-null uint8\n",
      "legal_ownership_status_Private                               421175 non-null uint8\n",
      "legal_ownership_status_Public                                421175 non-null uint8\n",
      "dtypes: float64(4), int64(37), object(1), uint8(41)\n",
      "memory usage: 154.6+ MB\n"
     ]
    }
   ],
   "source": [
    "test_data.info()"
   ]
  },
  {
   "cell_type": "code",
   "execution_count": 76,
   "metadata": {
    "collapsed": true
   },
   "outputs": [],
   "source": [
    "building_id = test_data['building_id']\n",
    "drop_features(test_data,['building_id'])"
   ]
  },
  {
   "cell_type": "code",
   "execution_count": 77,
   "metadata": {
    "collapsed": true
   },
   "outputs": [],
   "source": [
    "predictions = model.predict(test_data)"
   ]
  },
  {
   "cell_type": "code",
   "execution_count": 78,
   "metadata": {
    "collapsed": true
   },
   "outputs": [],
   "source": [
    "final_result = pd.DataFrame({ 'building_id' : building_id , 'damage_grade' : predictions})\n",
    "final_result.to_csv('output.csv', index = False)"
   ]
  }
 ],
 "metadata": {
  "kernelspec": {
   "display_name": "Python 3",
   "language": "python",
   "name": "python3"
  },
  "language_info": {
   "codemirror_mode": {
    "name": "ipython",
    "version": 3
   },
   "file_extension": ".py",
   "mimetype": "text/x-python",
   "name": "python",
   "nbconvert_exporter": "python",
   "pygments_lexer": "ipython3",
   "version": "3.6.3"
  }
 },
 "nbformat": 4,
 "nbformat_minor": 2
}
